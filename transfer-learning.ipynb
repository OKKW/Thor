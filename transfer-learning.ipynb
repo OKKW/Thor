{
 "cells": [
  {
   "cell_type": "code",
   "execution_count": 1,
   "metadata": {},
   "outputs": [
    {
     "name": "stderr",
     "output_type": "stream",
     "text": [
      "Using TensorFlow backend.\n"
     ]
    }
   ],
   "source": [
    "import pandas as pd\n",
    "import numpy as np\n",
    "import os\n",
    "import keras\n",
    "import matplotlib.pyplot as plt\n",
    "from keras.layers import Dense,GlobalAveragePooling2D\n",
    "from keras.applications import MobileNet\n",
    "from keras.preprocessing import image\n",
    "from keras.applications.mobilenet import preprocess_input\n",
    "from keras.preprocessing.image import ImageDataGenerator\n",
    "from keras.models import Model\n",
    "from keras.optimizers import Adam\n",
    "from keras.callbacks import ModelCheckpoint\n",
    "from keras.callbacks import EarlyStopping\n",
    "from keras.callbacks import ReduceLROnPlateau\n",
    "import datetime\n"
   ]
  },
  {
   "cell_type": "code",
   "execution_count": 2,
   "metadata": {},
   "outputs": [],
   "source": [
    "from numpy.random import seed\n",
    "seed(1)"
   ]
  },
  {
   "cell_type": "code",
   "execution_count": 3,
   "metadata": {},
   "outputs": [
    {
     "name": "stderr",
     "output_type": "stream",
     "text": [
      "c:\\users\\oskar.wilhelmsson\\appdata\\local\\programs\\python\\python36\\lib\\site-packages\\keras_applications\\mobilenet.py:208: UserWarning: MobileNet shape is undefined. Weights for input shape (224, 224) will be loaded.\n",
      "  warnings.warn('MobileNet shape is undefined.'\n"
     ]
    }
   ],
   "source": [
    "base_model=MobileNet(weights='imagenet',include_top=False) #imports the mobilenet model and discards the last 1000 neuron layer.\n",
    "\n",
    "x=base_model.output\n",
    "x=GlobalAveragePooling2D()(x)\n",
    "x=Dense(1024,activation='relu')(x) #we add dense layers so that the model can learn more complex functions and classify for better results.\n",
    "x=Dense(1024,activation='relu')(x) #dense layer 2\n",
    "x=Dense(512,activation='relu')(x) #dense layer 3\n",
    "preds=Dense(len(os.listdir('train')),activation='softmax')(x) #final layer with softmax activation"
   ]
  },
  {
   "cell_type": "code",
   "execution_count": 4,
   "metadata": {},
   "outputs": [],
   "source": [
    "model=Model(inputs=base_model.input,outputs=preds)\n",
    "#specify the inputs\n",
    "#specify the outputs\n",
    "#now a model has been created based on our architecture"
   ]
  },
  {
   "cell_type": "code",
   "execution_count": null,
   "metadata": {},
   "outputs": [],
   "source": []
  },
  {
   "cell_type": "code",
   "execution_count": null,
   "metadata": {},
   "outputs": [],
   "source": []
  },
  {
   "cell_type": "code",
   "execution_count": 5,
   "metadata": {},
   "outputs": [],
   "source": [
    "for layer in model.layers[:20]:\n",
    "    layer.trainable=False\n",
    "for layer in model.layers[20:]:\n",
    "    layer.trainable=True"
   ]
  },
  {
   "cell_type": "code",
   "execution_count": 6,
   "metadata": {},
   "outputs": [
    {
     "name": "stdout",
     "output_type": "stream",
     "text": [
      "Found 18571 images belonging to 120 classes.\n",
      "Found 2009 images belonging to 120 classes.\n"
     ]
    }
   ],
   "source": [
    "train_datagen=ImageDataGenerator(preprocessing_function=\n",
    "                                 preprocess_input,\n",
    "                                 #rotation_range=20,\n",
    "                                 #brightness_range =(1, 5),\n",
    "                                 #vertical_flip=True,\n",
    "                                 validation_split=0.1\n",
    "                                ) #included in our dependencies\n",
    "\n",
    "train_generator=train_datagen.flow_from_directory('./train/', # this is where you specify the path to the main data folder\n",
    "                                                 target_size=(224,224),\n",
    "                                                 color_mode='rgb',\n",
    "                                                 batch_size=16,\n",
    "                                                 class_mode='categorical',\n",
    "                                                 shuffle=True,\n",
    "                                                  subset='training'\n",
    "                                                 )\n",
    "\n",
    "validation_generator = train_datagen.flow_from_directory('./train/', # this is where you specify the path to the main data folder\n",
    "                                                 target_size=(224,224),\n",
    "                                                 color_mode='rgb',\n",
    "                                                 batch_size=16,\n",
    "                                                 class_mode='categorical',\n",
    "                                                 shuffle=True,\n",
    "                                                 subset='validation'\n",
    "                                                 )"
   ]
  },
  {
   "cell_type": "code",
   "execution_count": null,
   "metadata": {},
   "outputs": [],
   "source": []
  },
  {
   "cell_type": "code",
   "execution_count": 8,
   "metadata": {
    "scrolled": true
   },
   "outputs": [
    {
     "name": "stdout",
     "output_type": "stream",
     "text": [
      "Epoch 1/30\n",
      "1160/1160 [==============================] - 335s 289ms/step - loss: 3.4224 - acc: 0.1525 - val_loss: 2.9819 - val_acc: 0.2185\n",
      "\n",
      "Epoch 00001: val_loss improved from inf to 2.98195, saving model to C:\\Users\\oskar.wilhelmsson\\OneDrive - Acando AB\\ViggeHack\\transfer-learning/models/temp/728204-29-19_18-53-55.h5\n",
      "Epoch 2/30\n",
      "1160/1160 [==============================] - 322s 277ms/step - loss: 2.4765 - acc: 0.3059 - val_loss: 2.4043 - val_acc: 0.3532\n",
      "\n",
      "Epoch 00002: val_loss improved from 2.98195 to 2.40428, saving model to C:\\Users\\oskar.wilhelmsson\\OneDrive - Acando AB\\ViggeHack\\transfer-learning/models/temp/728204-29-19_18-53-55.h5\n",
      "Epoch 3/30\n",
      "1160/1160 [==============================] - 322s 278ms/step - loss: 2.0155 - acc: 0.4096 - val_loss: 2.2518 - val_acc: 0.3783\n",
      "\n",
      "Epoch 00003: val_loss improved from 2.40428 to 2.25177, saving model to C:\\Users\\oskar.wilhelmsson\\OneDrive - Acando AB\\ViggeHack\\transfer-learning/models/temp/728204-29-19_18-53-55.h5\n",
      "Epoch 4/30\n",
      "1160/1160 [==============================] - 322s 278ms/step - loss: 1.7123 - acc: 0.4832 - val_loss: 2.4269 - val_acc: 0.3869\n",
      "\n",
      "Epoch 00004: val_loss did not improve from 2.25177\n",
      "Epoch 5/30\n",
      "1160/1160 [==============================] - 322s 277ms/step - loss: 1.4985 - acc: 0.5393 - val_loss: 2.0758 - val_acc: 0.4340\n",
      "\n",
      "Epoch 00005: val_loss improved from 2.25177 to 2.07584, saving model to C:\\Users\\oskar.wilhelmsson\\OneDrive - Acando AB\\ViggeHack\\transfer-learning/models/temp/728204-29-19_18-53-55.h5\n",
      "Epoch 6/30\n",
      "1160/1160 [==============================] - 322s 278ms/step - loss: 1.2905 - acc: 0.5951 - val_loss: 2.1210 - val_acc: 0.4511\n",
      "\n",
      "Epoch 00006: val_loss did not improve from 2.07584\n",
      "Epoch 7/30\n",
      "1160/1160 [==============================] - 325s 280ms/step - loss: 1.1518 - acc: 0.6295 - val_loss: 2.3008 - val_acc: 0.4099\n",
      "\n",
      "Epoch 00007: val_loss did not improve from 2.07584\n",
      "Epoch 8/30\n",
      "1160/1160 [==============================] - 325s 280ms/step - loss: 1.0157 - acc: 0.6729 - val_loss: 2.0001 - val_acc: 0.4852\n",
      "\n",
      "Epoch 00008: val_loss improved from 2.07584 to 2.00010, saving model to C:\\Users\\oskar.wilhelmsson\\OneDrive - Acando AB\\ViggeHack\\transfer-learning/models/temp/728204-29-19_18-53-55.h5\n",
      "Epoch 9/30\n",
      "1160/1160 [==============================] - 322s 277ms/step - loss: 0.9040 - acc: 0.7041 - val_loss: 2.2672 - val_acc: 0.4285\n",
      "\n",
      "Epoch 00009: val_loss did not improve from 2.00010\n",
      "Epoch 10/30\n",
      "1160/1160 [==============================] - 325s 280ms/step - loss: 0.8068 - acc: 0.7392 - val_loss: 2.0793 - val_acc: 0.4732\n",
      "\n",
      "Epoch 00010: val_loss did not improve from 2.00010\n",
      "Epoch 11/30\n",
      "1160/1160 [==============================] - 325s 280ms/step - loss: 0.7456 - acc: 0.7594 - val_loss: 2.3939 - val_acc: 0.4561\n",
      "\n",
      "Epoch 00011: val_loss did not improve from 2.00010\n",
      "Epoch 12/30\n",
      "1160/1160 [==============================] - 322s 277ms/step - loss: 0.3793 - acc: 0.8731 - val_loss: 1.8262 - val_acc: 0.5660\n",
      "\n",
      "Epoch 00012: val_loss improved from 2.00010 to 1.82624, saving model to C:\\Users\\oskar.wilhelmsson\\OneDrive - Acando AB\\ViggeHack\\transfer-learning/models/temp/728204-29-19_18-53-55.h5\n",
      "Epoch 13/30\n",
      "1160/1160 [==============================] - 322s 277ms/step - loss: 0.2419 - acc: 0.9157 - val_loss: 2.0410 - val_acc: 0.5625\n",
      "\n",
      "Epoch 00013: val_loss did not improve from 1.82624\n",
      "Epoch 14/30\n",
      "1160/1160 [==============================] - 322s 278ms/step - loss: 0.1723 - acc: 0.9393 - val_loss: 2.1638 - val_acc: 0.5685\n",
      "\n",
      "Epoch 00014: val_loss did not improve from 1.82624\n",
      "Epoch 15/30\n",
      "1160/1160 [==============================] - 325s 280ms/step - loss: 0.1336 - acc: 0.9518 - val_loss: 2.3259 - val_acc: 0.5670\n",
      "\n",
      "Epoch 00015: val_loss did not improve from 1.82624\n",
      "Epoch 16/30\n",
      "1160/1160 [==============================] - 325s 280ms/step - loss: 0.0975 - acc: 0.9671 - val_loss: 2.2852 - val_acc: 0.5760\n",
      "\n",
      "Epoch 00016: val_loss did not improve from 1.82624\n",
      "Epoch 17/30\n",
      "1160/1160 [==============================] - 325s 280ms/step - loss: 0.0929 - acc: 0.9672 - val_loss: 2.3395 - val_acc: 0.5700\n",
      "\n",
      "Epoch 00017: val_loss did not improve from 1.82624\n",
      "Epoch 18/30\n",
      "1160/1160 [==============================] - 325s 280ms/step - loss: 0.0853 - acc: 0.9702 - val_loss: 2.3714 - val_acc: 0.5750\n",
      "\n",
      "Epoch 00018: val_loss did not improve from 1.82624\n",
      "Epoch 19/30\n",
      "1160/1160 [==============================] - 325s 280ms/step - loss: 0.0799 - acc: 0.9726 - val_loss: 2.4426 - val_acc: 0.5725\n",
      "\n",
      "Epoch 00019: val_loss did not improve from 1.82624\n",
      "Epoch 20/30\n",
      "1160/1160 [==============================] - 325s 280ms/step - loss: 0.0780 - acc: 0.9738 - val_loss: 2.3370 - val_acc: 0.5835\n",
      "\n",
      "Epoch 00020: val_loss did not improve from 1.82624\n",
      "Epoch 21/30\n",
      "1160/1160 [==============================] - 325s 280ms/step - loss: 0.0754 - acc: 0.9745 - val_loss: 2.5634 - val_acc: 0.5675\n",
      "\n",
      "Epoch 00021: val_loss did not improve from 1.82624\n",
      "Epoch 22/30\n",
      "1160/1160 [==============================] - 325s 280ms/step - loss: 0.0696 - acc: 0.9769 - val_loss: 2.5192 - val_acc: 0.5770\n",
      "\n",
      "Epoch 00022: val_loss did not improve from 1.82624\n",
      "Epoch 23/30\n",
      "1160/1160 [==============================] - 325s 280ms/step - loss: 0.0688 - acc: 0.9766 - val_loss: 2.4792 - val_acc: 0.5695\n",
      "\n",
      "Epoch 00023: val_loss did not improve from 1.82624\n",
      "Epoch 24/30\n",
      "1160/1160 [==============================] - 325s 280ms/step - loss: 0.0624 - acc: 0.9798 - val_loss: 2.6367 - val_acc: 0.5700\n",
      "\n",
      "Epoch 00024: val_loss did not improve from 1.82624\n"
     ]
    }
   ],
   "source": [
    "model.compile(optimizer='Adam',loss='categorical_crossentropy',metrics=['accuracy'])\n",
    "# Adam optimizer\n",
    "# loss function will be categorical cross entropy\n",
    "# evaluation metric will be accuracy\n",
    "\n",
    "\n",
    "\n",
    "from random import randint\n",
    "UID = \"\".join([str(randint(0, 9)) for i in range(4)]).zfill(4)\n",
    "\n",
    "def gen_model_temp_path(UID):\n",
    "\n",
    "    date=datetime.datetime.now().strftime(\"%m-%d-%y_%H-%M-%S\")\n",
    "    folder = \"/models/temp/\"\n",
    "    path = str(folder+UID+datetime.datetime.now().strftime(\"%m-%d-%y_%H-%M-%S\")+\".h5\")\n",
    "    if not os.path.exists(str(os.getcwd()+folder)):\n",
    "        os.makedirs(str(os.getcwd()+folder))\n",
    "    return str(os.getcwd()+path)    \n",
    "    \n",
    "earlyStop = EarlyStopping(monitor='val_loss', \n",
    "                          min_delta=0,\n",
    "                          patience=12, #change this to something much lower\n",
    "                          verbose=0, \n",
    "                          mode='auto')\n",
    "checkpointer = ModelCheckpoint(filepath=gen_model_temp_path(UID),\n",
    "                               verbose=1, save_best_only=True)\n",
    "reduce_lr = ReduceLROnPlateau(monitor='val_loss', factor=0.1,\n",
    "                              patience=3, min_lr=0.00001)\n",
    "\n",
    "step_size_train=train_generator.n//train_generator.batch_size\n",
    "history=model.fit_generator(generator=train_generator,\n",
    "                   steps_per_epoch=train_generator.n//train_generator.batch_size,\n",
    "                   validation_data=validation_generator,\n",
    "                   validation_steps = validation_generator.n // validation_generator.batch_size,\n",
    "                   epochs=30,\n",
    "                   callbacks=[checkpointer,reduce_lr,earlyStop])"
   ]
  },
  {
   "cell_type": "code",
   "execution_count": 10,
   "metadata": {},
   "outputs": [],
   "source": [
    "import pickle"
   ]
  },
  {
   "cell_type": "code",
   "execution_count": 11,
   "metadata": {
    "scrolled": false
   },
   "outputs": [],
   "source": [
    "#get dict of class names:\n",
    "#model.class_indices\n",
    "a = train_generator.class_indices.keys()\n",
    "b = train_generator.class_indices.values()\n",
    "a = [l[10:] for l in list(a)]\n",
    "b=list(b)\n",
    "name_id_map=dict(zip(b,a))\n",
    "pickle.dump( name_id_map, open( \"models/dict.p\", \"wb\" ) )"
   ]
  },
  {
   "cell_type": "code",
   "execution_count": 12,
   "metadata": {},
   "outputs": [],
   "source": [
    "model.save(\"models/model4.h5\")"
   ]
  },
  {
   "cell_type": "code",
   "execution_count": 13,
   "metadata": {},
   "outputs": [],
   "source": [
    "#see progress of fit"
   ]
  },
  {
   "cell_type": "code",
   "execution_count": 14,
   "metadata": {},
   "outputs": [
    {
     "name": "stdout",
     "output_type": "stream",
     "text": [
      "dict_keys(['val_loss', 'val_acc', 'loss', 'acc', 'lr'])\n"
     ]
    },
    {
     "data": {
      "image/png": "[encoded data removed]",
      "text/plain": [
       "<Figure size 432x288 with 1 Axes>"
      ]
     },
     "metadata": {
      "needs_background": "light"
     },
     "output_type": "display_data"
    },
    {
     "data": {
      "image/png": "[encoded data removed]",
      "text/plain": [
       "<Figure size 432x288 with 1 Axes>"
      ]
     },
     "metadata": {
      "needs_background": "light"
     },
     "output_type": "display_data"
    }
   ],
   "source": [
    "print(history.history.keys())\n",
    "# summarize history for accuracy\n",
    "f, ax = plt.subplots()\n",
    "plt.plot(history.history['acc'])\n",
    "plt.plot(history.history['val_acc'])\n",
    "plt.title('model accuracy')\n",
    "plt.ylabel('accuracy')\n",
    "plt.xlabel('epoch')\n",
    "plt.legend(['train', 'test'], loc='upper left')\n",
    "plt.show()\n",
    "\n",
    "# summarize history for loss\n",
    "f, ax = plt.subplots()\n",
    "plt.plot(history.history['loss'])\n",
    "plt.plot(history.history['val_loss'])\n",
    "plt.title('model loss')\n",
    "plt.ylabel('loss')\n",
    "plt.xlabel('epoch')\n",
    "plt.legend(['train', 'test'], loc='upper left')\n",
    "plt.show()\n"
   ]
  },
  {
   "cell_type": "code",
   "execution_count": null,
   "metadata": {},
   "outputs": [],
   "source": []
  },
  {
   "cell_type": "code",
   "execution_count": null,
   "metadata": {},
   "outputs": [],
   "source": []
  },
  {
   "cell_type": "code",
   "execution_count": null,
   "metadata": {},
   "outputs": [],
   "source": []
  },
  {
   "cell_type": "code",
   "execution_count": null,
   "metadata": {},
   "outputs": [],
   "source": []
  },
  {
   "cell_type": "code",
   "execution_count": 6,
   "metadata": {},
   "outputs": [],
   "source": [
    "import os\n",
    "from keras.models import model_from_json\n",
    "from keras import backend as K\n",
    "import logging\n",
    "import json\n",
    "import pandas as pd\n",
    "import numpy as np\n",
    "import os\n",
    "import matplotlib.pyplot as plt\n",
    "from keras.applications import MobileNet\n",
    "from keras.preprocessing import image\n",
    "from keras.applications.mobilenet import preprocess_input\n",
    "from keras.preprocessing import image\n",
    "from keras.models import load_model\n",
    "from glob import glob\n",
    "import pickle\n",
    "import tensorflow as tf\n",
    "\n",
    "logger = logging.getLogger('root')\n",
    "\n",
    "class ParseJsonResult:\n",
    "    def toJSON(self):\n",
    "        return json.dumps(self,default=lambda o: o.__dict__, \n",
    "            sort_keys=True, indent=4)\n",
    "    \n",
    "class NeuralNetwork:\n",
    "    def __init__(self,modelfile,classfile):\n",
    "        self.session = tf.Session()\n",
    "        self.graph = tf.get_default_graph()\n",
    "        # the folder in which the model and weights are stored\n",
    "        self.model_folder = 'models'\n",
    "        self.modelfile = modelfile\n",
    "        self.classfile =classfile\n",
    "        # for some reason in a flask app the graph/session needs to be used in the init else it hangs on other threads\n",
    "        self.load_mod()\n",
    "        self.load_classes()\n",
    "        \n",
    "        \n",
    "        \n",
    "        with self.graph.as_default():\n",
    "            with self.session.as_default():\n",
    "                logging.info(\"neural network initialised\")\n",
    "                \n",
    "        \n",
    "    def load_mod(self):\n",
    "        \"\"\"\n",
    "        :param file_name: [model_file_name]\n",
    "        :return:\n",
    "        \"\"\"\n",
    "        with self.graph.as_default():\n",
    "            with self.session.as_default():\n",
    "                try:\n",
    "                    # load the model\n",
    "                    self.model = load_model(os.path.join(self.model_folder, self.modelfile))\n",
    "                        \n",
    "                    logging.info(\"Neural Network loaded: \")\n",
    "                    logging.info('\\t' + \"Neural Network model: \" + self.modelfile)\n",
    "                    return True\n",
    "                except Exception as e:\n",
    "                    logging.exception(e)\n",
    "                    return False\n",
    "    def load_classes(self):\n",
    "        self.name_id_map = pickle.load(open(os.path.join(self.model_folder, self.classfile), \"rb\" ))\n",
    "        \n",
    "    def predict(self, input_img):\n",
    "        with self.graph.as_default():\n",
    "            with self.session.as_default():\n",
    "                \n",
    "                self.activations = np.round(np.squeeze(self.model.predict(np.expand_dims(preprocess_input(np.array(input_img)),axis=0))),2)\n",
    "                print(self.model)\n",
    "                df = pd.DataFrame(np.vstack((np.array(list(self.name_id_map.keys())).astype(int),np.array(list(self.name_id_map.values())))).T,columns=['idx','species'])\n",
    "                df['activations'] = self.activations\n",
    "                df = df.sort_values(by=['activations'],ascending=False)\n",
    "                result = df.head(3)\n",
    "\n",
    "                l = [ParseJsonResult()]*3\n",
    "\n",
    "                for i,j in enumerate(result.iterrows()):\n",
    "                    n,m = j\n",
    "                    l[i] = ParseJsonResult()\n",
    "                    l[i].idx = m.idx\n",
    "                    l[i].species = m.species\n",
    "                    l[i].activations = m.activations\n",
    "\n",
    "                self.json = [l[i].toJSON() for i in range(len(l))]\n",
    "                self.winner = json.loads(self.json[0])['species']\n",
    "\n",
    "        return self.json"
   ]
  },
  {
   "cell_type": "code",
   "execution_count": 7,
   "metadata": {},
   "outputs": [],
   "source": [
    "model = NeuralNetwork(modelfile = 'model4.h5',classfile = 'dict.p')"
   ]
  },
  {
   "cell_type": "code",
   "execution_count": 8,
   "metadata": {},
   "outputs": [],
   "source": [
    "input_img=image.load_img(\"train/n02088094-Afghan_hound/n02088094_907.jpg\")"
   ]
  },
  {
   "cell_type": "code",
   "execution_count": 9,
   "metadata": {},
   "outputs": [
    {
     "name": "stdout",
     "output_type": "stream",
     "text": [
      "<keras.engine.training.Model object at 0x0000026F90729198>\n"
     ]
    },
    {
     "data": {
      "text/plain": [
       "['{\\n    \"activations\": 0.8999999761581421,\\n    \"idx\": \"9\",\\n    \"species\": \"Afghan_hound\"\\n}',\n",
       " '{\\n    \"activations\": 0.07999999821186066,\\n    \"idx\": \"77\",\\n    \"species\": \"komondor\"\\n}',\n",
       " '{\\n    \"activations\": 0.009999999776482582,\\n    \"idx\": \"26\",\\n    \"species\": \"Scottish_deerhound\"\\n}']"
      ]
     },
     "execution_count": 9,
     "metadata": {},
     "output_type": "execute_result"
    }
   ],
   "source": [
    "model.predict(input_img)"
   ]
  },
  {
   "cell_type": "code",
   "execution_count": null,
   "metadata": {},
   "outputs": [],
   "source": []
  },
  {
   "cell_type": "code",
   "execution_count": null,
   "metadata": {},
   "outputs": [],
   "source": []
  },
  {
   "cell_type": "code",
   "execution_count": null,
   "metadata": {},
   "outputs": [],
   "source": []
  },
  {
   "cell_type": "code",
   "execution_count": null,
   "metadata": {},
   "outputs": [],
   "source": []
  },
  {
   "cell_type": "code",
   "execution_count": 6,
   "metadata": {},
   "outputs": [],
   "source": []
  },
  {
   "cell_type": "code",
   "execution_count": null,
   "metadata": {},
   "outputs": [],
   "source": []
  },
  {
   "cell_type": "code",
   "execution_count": 16,
   "metadata": {},
   "outputs": [],
   "source": [
    "#evalute model"
   ]
  },
  {
   "cell_type": "code",
   "execution_count": 17,
   "metadata": {},
   "outputs": [],
   "source": [
    "from sklearn.metrics import classification_report,confusion_matrix\n",
    "import seaborn as sns"
   ]
  },
  {
   "cell_type": "code",
   "execution_count": 18,
   "metadata": {},
   "outputs": [
    {
     "name": "stdout",
     "output_type": "stream",
     "text": [
      "2009/2009 [==============================] - 13s 7ms/step\n",
      "Accuracy:  0.5694375308726545\n",
      "Loss:  2.569629324793875\n"
     ]
    }
   ],
   "source": [
    "#Evaluating using Keras model_evaluate:\n",
    "x, y = zip(*(validation_generator[i] for i in range(len(validation_generator))))\n",
    "x_test, y_test = np.vstack(x), np.vstack(y)\n",
    "loss, acc = model.evaluate(x_test, y_test, batch_size=64)\n",
    "\n",
    "print(\"Accuracy: \" ,acc)\n",
    "print(\"Loss: \", loss)\n"
   ]
  },
  {
   "cell_type": "code",
   "execution_count": 19,
   "metadata": {},
   "outputs": [],
   "source": [
    "y_pred = [np.argmax(model.predict(np.expand_dims(np.array(x_test[i]),axis=0))) for i in range (len(y_test))]"
   ]
  },
  {
   "cell_type": "code",
   "execution_count": null,
   "metadata": {},
   "outputs": [],
   "source": []
  },
  {
   "cell_type": "code",
   "execution_count": 20,
   "metadata": {},
   "outputs": [],
   "source": [
    "import matplotlib.pyplot as plt\n"
   ]
  },
  {
   "cell_type": "code",
   "execution_count": null,
   "metadata": {},
   "outputs": [],
   "source": []
  },
  {
   "cell_type": "code",
   "execution_count": 21,
   "metadata": {},
   "outputs": [
    {
     "data": {
      "text/plain": [
       "<matplotlib.axes._subplots.AxesSubplot at 0x29f175c7550>"
      ]
     },
     "execution_count": 21,
     "metadata": {},
     "output_type": "execute_result"
    },
    {
     "data": {
      "image/png": "[encoded data removed]",
      "text/plain": [
       "<Figure size 1080x1080 with 2 Axes>"
      ]
     },
     "metadata": {
      "needs_background": "light"
     },
     "output_type": "display_data"
    }
   ],
   "source": [
    "f,ax = plt.subplots(figsize=(15,15))\n",
    "#sns.heatmap(confusion_matrix(y_test, y_pred).astype(np.float)/confusion_matrix(y_test, y_pred).sum(axis=1)[:, np.newaxis]\n",
    "sns.heatmap((confusion_matrix(np.argmax(y_test,axis=1), y_pred).astype(np.float)/confusion_matrix(np.argmax(y_test,axis=1), y_pred).sum(axis=1)[:, np.newaxis]))"
   ]
  },
  {
   "cell_type": "code",
   "execution_count": null,
   "metadata": {},
   "outputs": [],
   "source": []
  },
  {
   "cell_type": "code",
   "execution_count": 22,
   "metadata": {},
   "outputs": [
    {
     "name": "stdout",
     "output_type": "stream",
     "text": [
      "              precision    recall  f1-score   support\n",
      "\n",
      "           0       0.72      0.87      0.79        15\n",
      "           1       0.85      0.94      0.89        18\n",
      "           2       0.71      0.68      0.69        25\n",
      "           3       0.55      0.86      0.67        14\n",
      "           4       0.36      0.48      0.41        21\n",
      "           5       0.92      0.61      0.73        18\n",
      "           6       1.00      0.79      0.88        19\n",
      "           7       0.42      0.65      0.51        17\n",
      "           8       0.32      0.41      0.36        17\n",
      "           9       0.96      0.96      0.96        23\n",
      "          10       0.60      0.53      0.56        17\n",
      "          11       0.44      0.37      0.40        19\n",
      "          12       0.62      0.89      0.73        18\n",
      "          13       0.52      0.65      0.58        17\n",
      "          14       0.50      0.67      0.57        15\n",
      "          15       0.38      0.33      0.36        15\n",
      "          16       0.53      0.53      0.53        15\n",
      "          17       0.18      0.14      0.16        14\n",
      "          18       0.64      0.47      0.54        15\n",
      "          19       0.40      0.67      0.50        21\n",
      "          20       0.46      0.33      0.39        18\n",
      "          21       0.29      0.50      0.37        18\n",
      "          22       0.83      0.56      0.67        18\n",
      "          23       0.94      0.84      0.89        19\n",
      "          24       0.64      0.47      0.54        15\n",
      "          25       0.53      0.50      0.51        20\n",
      "          26       0.50      0.39      0.44        23\n",
      "          27       0.58      0.44      0.50        16\n",
      "          28       0.29      0.33      0.31        15\n",
      "          29       0.46      0.38      0.41        16\n",
      "          30       0.91      0.56      0.69        18\n",
      "          31       0.74      0.82      0.78        17\n",
      "          32       0.63      0.71      0.67        17\n",
      "          33       0.50      0.38      0.43        16\n",
      "          34       0.46      0.35      0.40        17\n",
      "          35       0.50      0.44      0.47        18\n",
      "          36       0.36      0.25      0.30        16\n",
      "          37       0.67      0.53      0.59        15\n",
      "          38       0.37      0.53      0.43        19\n",
      "          39       0.94      0.85      0.89        20\n",
      "          40       0.46      0.30      0.36        20\n",
      "          41       0.47      0.74      0.57        19\n",
      "          42       0.60      0.63      0.62        19\n",
      "          43       0.62      0.56      0.59        18\n",
      "          44       0.75      0.67      0.71        18\n",
      "          45       0.40      0.27      0.32        15\n",
      "          46       0.44      0.53      0.48        15\n",
      "          47       0.40      0.40      0.40        15\n",
      "          48       0.82      0.93      0.87        15\n",
      "          49       0.69      0.55      0.61        20\n",
      "          50       0.50      0.44      0.47        18\n",
      "          51       0.33      0.53      0.41        15\n",
      "          52       0.65      0.69      0.67        16\n",
      "          53       0.19      0.22      0.21        18\n",
      "          54       0.67      0.53      0.59        15\n",
      "          55       0.58      0.73      0.65        15\n",
      "          56       0.55      0.40      0.46        15\n",
      "          57       0.34      0.59      0.43        17\n",
      "          58       0.50      0.38      0.43        16\n",
      "          59       0.60      0.60      0.60        15\n",
      "          60       0.55      0.40      0.46        15\n",
      "          61       0.33      0.38      0.35        16\n",
      "          62       0.77      0.67      0.71        15\n",
      "          63       0.62      0.53      0.57        15\n",
      "          64       0.54      0.47      0.50        15\n",
      "          65       0.82      0.60      0.69        15\n",
      "          66       0.75      0.60      0.67        15\n",
      "          67       0.79      0.73      0.76        15\n",
      "          68       0.41      0.47      0.44        15\n",
      "          69       0.91      0.67      0.77        15\n",
      "          70       0.67      0.67      0.67        15\n",
      "          71       0.38      0.40      0.39        15\n",
      "          72       0.73      0.73      0.73        15\n",
      "          73       0.72      0.87      0.79        15\n",
      "          74       0.54      0.87      0.67        15\n",
      "          75       0.43      0.67      0.53        15\n",
      "          76       0.31      0.33      0.32        15\n",
      "          77       0.76      0.87      0.81        15\n",
      "          78       0.85      0.69      0.76        16\n",
      "          79       0.46      0.40      0.43        15\n",
      "          80       0.38      0.40      0.39        15\n",
      "          81       0.71      0.80      0.75        15\n",
      "          82       0.50      0.60      0.55        15\n",
      "          83       0.75      0.80      0.77        15\n",
      "          84       0.80      0.53      0.64        15\n",
      "          85       0.78      0.47      0.58        15\n",
      "          86       0.60      0.50      0.55        18\n",
      "          87       0.38      0.50      0.43        16\n",
      "          88       0.87      0.62      0.72        21\n",
      "          89       0.31      0.27      0.29        15\n",
      "          90       0.67      0.70      0.68        20\n",
      "          91       0.67      0.53      0.59        15\n",
      "          92       0.56      0.93      0.70        15\n",
      "          93       0.64      0.47      0.54        15\n",
      "          94       0.62      0.53      0.57        15\n",
      "          95       0.15      0.20      0.17        15\n",
      "          96       0.72      0.76      0.74        17\n",
      "          97       0.23      0.33      0.27        15\n",
      "          98       0.35      0.41      0.38        17\n",
      "          99       0.33      0.37      0.35        19\n",
      "         100       0.62      0.33      0.43        15\n",
      "         101       0.60      0.30      0.40        20\n",
      "         102       0.61      0.55      0.58        20\n",
      "         103       0.72      0.86      0.78        21\n",
      "         104       0.57      0.68      0.62        19\n",
      "         105       0.52      0.57      0.55        21\n",
      "         106       0.82      0.67      0.74        21\n",
      "         107       0.94      0.76      0.84        21\n",
      "         108       0.80      0.84      0.82        19\n",
      "         109       0.78      0.93      0.85        15\n",
      "         110       0.85      0.73      0.79        15\n",
      "         111       0.75      0.50      0.60        18\n",
      "         112       0.67      0.40      0.50        15\n",
      "         113       0.46      0.40      0.43        15\n",
      "         114       0.44      0.27      0.33        15\n",
      "         115       0.38      0.33      0.36        15\n",
      "         116       0.71      0.80      0.75        15\n",
      "         117       0.50      0.33      0.40        15\n",
      "         118       0.61      0.73      0.67        15\n",
      "         119       0.68      0.81      0.74        16\n",
      "\n",
      "   micro avg       0.57      0.57      0.57      2009\n",
      "   macro avg       0.58      0.57      0.57      2009\n",
      "weighted avg       0.59      0.57      0.57      2009\n",
      "\n"
     ]
    }
   ],
   "source": [
    "print(classification_report(np.argmax(y_test,axis=1), y_pred))"
   ]
  },
  {
   "cell_type": "code",
   "execution_count": null,
   "metadata": {},
   "outputs": [],
   "source": []
  },
  {
   "cell_type": "code",
   "execution_count": null,
   "metadata": {},
   "outputs": [],
   "source": []
  },
  {
   "cell_type": "code",
   "execution_count": null,
   "metadata": {},
   "outputs": [],
   "source": []
  },
  {
   "cell_type": "code",
   "execution_count": null,
   "metadata": {},
   "outputs": [],
   "source": []
  },
  {
   "cell_type": "code",
   "execution_count": null,
   "metadata": {},
   "outputs": [],
   "source": []
  },
  {
   "cell_type": "code",
   "execution_count": null,
   "metadata": {},
   "outputs": [],
   "source": []
  },
  {
   "cell_type": "code",
   "execution_count": null,
   "metadata": {},
   "outputs": [],
   "source": []
  },
  {
   "cell_type": "code",
   "execution_count": null,
   "metadata": {},
   "outputs": [],
   "source": []
  },
  {
   "cell_type": "code",
   "execution_count": null,
   "metadata": {},
   "outputs": [],
   "source": []
  },
  {
   "cell_type": "code",
   "execution_count": null,
   "metadata": {},
   "outputs": [],
   "source": []
  },
  {
   "cell_type": "code",
   "execution_count": 69,
   "metadata": {},
   "outputs": [
    {
     "name": "stdout",
     "output_type": "stream",
     "text": [
      "Found 20580 images belonging to 120 classes.\n"
     ]
    }
   ],
   "source": [
    "#Look at images being generated:\n",
    "train_datagen=ImageDataGenerator(preprocessing_function=preprocess_input) #included in our dependencies\n",
    "x=0\n",
    "for i in train_datagen.flow_from_directory('./train/', # this is where you specify the path to the main data folder\n",
    "                                                 target_size=(224,224),\n",
    "                                                 color_mode='rgb',\n",
    "                                                 #batch_size=16,\n",
    "                                                 class_mode='categorical',\n",
    "                                                 shuffle=True,\n",
    "                                                 batch_size=1,\n",
    "                                                 save_to_dir=path, \n",
    "                                                 save_prefix='test', \n",
    "                                                 save_format='jpg'):\n",
    "    \n",
    "    x=x+1\n",
    "    if x>=3:\n",
    "        break\n",
    "    \n",
    "        "
   ]
  }
 ],
 "metadata": {
  "kernelspec": {
   "display_name": "Python 3",
   "language": "python",
   "name": "python3"
  },
  "language_info": {
   "codemirror_mode": {
    "name": "ipython",
    "version": 3
   },
   "file_extension": ".py",
   "mimetype": "text/x-python",
   "name": "python",
   "nbconvert_exporter": "python",
   "pygments_lexer": "ipython3",
   "version": "3.6.4"
  }
 },
 "nbformat": 4,
 "nbformat_minor": 2
}
